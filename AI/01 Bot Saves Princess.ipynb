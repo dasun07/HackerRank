{
 "cells": [
  {
   "cell_type": "code",
   "execution_count": 18,
   "id": "31e90f57",
   "metadata": {},
   "outputs": [],
   "source": [
    "def displayPathtoPrincess(n,grid):\n",
    "    centre_x = int((n-1)/2)\n",
    "    centre_y = int((n-1)/2)\n",
    "    princess = [[x,y] for x in [0,n-1] for y in [0,n-1] if grid[x][y] == 'p']\n",
    "    moves = []\n",
    "    if princess[0][0] - centre_x < 0:\n",
    "        for i in range(centre_x):\n",
    "            moves.append('UP')\n",
    "    else:\n",
    "        for i in range(centre_x):\n",
    "            moves.append('DOWN')\n",
    "        \n",
    "    if princess[0][1] - centre_y < 0:\n",
    "        for j in range(centre_y):\n",
    "            moves.append('LEFT')\n",
    "    else:\n",
    "        for j in range(centre_y):\n",
    "            moves.append('RIGHT')\n",
    "            \n",
    "    \n",
    "    for word in moves:\n",
    "        print(word)\n",
    "#print all the moves here"
   ]
  },
  {
   "cell_type": "code",
   "execution_count": 19,
   "id": "88fb6373",
   "metadata": {},
   "outputs": [
    {
     "name": "stdout",
     "output_type": "stream",
     "text": [
      "3\n",
      "---\n",
      "-m*\n",
      "--p\n",
      "DOWN \n",
      "\n",
      "RIGHT \n",
      "\n"
     ]
    }
   ],
   "source": [
    "m = int(input())\n",
    "grid = [] \n",
    "for i in range(0, m): \n",
    "    grid.append(input().strip())\n",
    "\n",
    "displayPathtoPrincess(m,grid)"
   ]
  },
  {
   "cell_type": "code",
   "execution_count": 6,
   "id": "80bf780f",
   "metadata": {},
   "outputs": [
    {
     "name": "stdout",
     "output_type": "stream",
     "text": [
      "['---', '-m-', '--p']\n"
     ]
    }
   ],
   "source": [
    "print(grid)"
   ]
  }
 ],
 "metadata": {
  "kernelspec": {
   "display_name": "Python 3",
   "language": "python",
   "name": "python3"
  },
  "language_info": {
   "codemirror_mode": {
    "name": "ipython",
    "version": 3
   },
   "file_extension": ".py",
   "mimetype": "text/x-python",
   "name": "python",
   "nbconvert_exporter": "python",
   "pygments_lexer": "ipython3",
   "version": "3.7.10"
  }
 },
 "nbformat": 4,
 "nbformat_minor": 5
}
