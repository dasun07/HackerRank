{
 "cells": [
  {
   "cell_type": "code",
   "execution_count": 2,
   "metadata": {},
   "outputs": [
    {
     "name": "stdout",
     "output_type": "stream",
     "text": [
      "Yes\n"
     ]
    }
   ],
   "source": [
    "# Enter your code here. Read input from STDIN. Print output to STDOUT\n",
    "from collections import deque\n",
    "t = int(input())\n",
    "for _ in range(t):\n",
    "    n = int(input())\n",
    "    s = deque(map(int, input().split()))\n",
    "    r = []\n",
    "    for i in range(n):\n",
    "        if i == 0:\n",
    "            if s[0] >= s[-1]:\n",
    "                a = s.popleft()\n",
    "                r.append(a)\n",
    "            else:\n",
    "                a = s.pop()\n",
    "                r.append(a)\n",
    "        else:\n",
    "            if s[0] <= r[-1] and s[-1] <=r[-1]:\n",
    "                m = max(s[0], s[-1])\n",
    "                if m == s[0]:\n",
    "                    a = s.popleft()\n",
    "                    r.append(a)\n",
    "                else:\n",
    "                    a = s.pop()\n",
    "                    r.append(a)         \n",
    "            \n",
    "            else:\n",
    "                print('No')\n",
    "                break\n",
    "        \n",
    "    if len(r) == n:\n",
    "        print('Yes')\n",
    "            \n",
    "    \n",
    "    "
   ]
  }
 ],
 "metadata": {
  "kernelspec": {
   "display_name": "Python 3.7.10 ('tensorflow')",
   "language": "python",
   "name": "python3"
  },
  "language_info": {
   "codemirror_mode": {
    "name": "ipython",
    "version": 3
   },
   "file_extension": ".py",
   "mimetype": "text/x-python",
   "name": "python",
   "nbconvert_exporter": "python",
   "pygments_lexer": "ipython3",
   "version": "3.7.10"
  },
  "orig_nbformat": 4,
  "vscode": {
   "interpreter": {
    "hash": "1d1126811e52f7a4f325bb989cb7d4cb5b8fface4929d6a08255bed0ac86b4c6"
   }
  }
 },
 "nbformat": 4,
 "nbformat_minor": 2
}
