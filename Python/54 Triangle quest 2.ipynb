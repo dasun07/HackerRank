{
 "cells": [
  {
   "cell_type": "code",
   "execution_count": 8,
   "metadata": {},
   "outputs": [
    {
     "name": "stdout",
     "output_type": "stream",
     "text": [
      "1\n",
      "121\n",
      "12321\n",
      "1234321\n",
      "123454321\n",
      "12345654321\n",
      "1234567654321\n",
      "123456787654321\n",
      "12345678987654321\n"
     ]
    }
   ],
   "source": [
    "for i in range(1,int(input())+1): \n",
    "    print((((10**i)-1)//9)**2)"
   ]
  }
 ],
 "metadata": {
  "kernelspec": {
   "display_name": "Python 3.7.10 ('tensorflow')",
   "language": "python",
   "name": "python3"
  },
  "language_info": {
   "codemirror_mode": {
    "name": "ipython",
    "version": 3
   },
   "file_extension": ".py",
   "mimetype": "text/x-python",
   "name": "python",
   "nbconvert_exporter": "python",
   "pygments_lexer": "ipython3",
   "version": "3.7.10"
  },
  "orig_nbformat": 4,
  "vscode": {
   "interpreter": {
    "hash": "1d1126811e52f7a4f325bb989cb7d4cb5b8fface4929d6a08255bed0ac86b4c6"
   }
  }
 },
 "nbformat": 4,
 "nbformat_minor": 2
}
