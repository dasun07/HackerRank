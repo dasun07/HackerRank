{
 "cells": [
  {
   "cell_type": "code",
   "execution_count": 1,
   "metadata": {},
   "outputs": [],
   "source": [
    "from collections import defaultdict"
   ]
  },
  {
   "cell_type": "code",
   "execution_count": 15,
   "metadata": {},
   "outputs": [],
   "source": [
    "d = defaultdict(list)\n",
    "m,n = map(int, input().split())\n",
    "\n",
    "i = 0\n",
    "while i < m:\n",
    "    d['A'].append(input())\n",
    "    i += 1\n",
    "\n",
    "j = 0\n",
    "while j < n:\n",
    "    d['B'].append(input())\n",
    "    j += 1\n",
    "\n"
   ]
  },
  {
   "cell_type": "code",
   "execution_count": 19,
   "metadata": {},
   "outputs": [
    {
     "name": "stdout",
     "output_type": "stream",
     "text": [
      "1 3\n",
      "-1\n"
     ]
    }
   ],
   "source": [
    "for i in range(len(d['B'])):\n",
    "    output = []\n",
    "    for j in range(len(d['A'])):\n",
    "        if d['A'][j] == d['B'][i]:\n",
    "            output.append(j+1)\n",
    "    if output == []:\n",
    "        print(str(-1))\n",
    "    else:\n",
    "        print(' '.join(map(str,output))) \n"
   ]
  }
 ],
 "metadata": {
  "kernelspec": {
   "display_name": "Python 3.7.10 ('tensorflow')",
   "language": "python",
   "name": "python3"
  },
  "language_info": {
   "codemirror_mode": {
    "name": "ipython",
    "version": 3
   },
   "file_extension": ".py",
   "mimetype": "text/x-python",
   "name": "python",
   "nbconvert_exporter": "python",
   "pygments_lexer": "ipython3",
   "version": "3.7.10"
  },
  "orig_nbformat": 4,
  "vscode": {
   "interpreter": {
    "hash": "1d1126811e52f7a4f325bb989cb7d4cb5b8fface4929d6a08255bed0ac86b4c6"
   }
  }
 },
 "nbformat": 4,
 "nbformat_minor": 2
}
