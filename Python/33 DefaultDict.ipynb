{
 "cells": [
  {
   "cell_type": "code",
   "execution_count": 1,
   "metadata": {},
   "outputs": [],
   "source": [
    "from collections import defaultdict"
   ]
  },
  {
   "cell_type": "code",
   "execution_count": 15,
   "metadata": {},
   "outputs": [],
   "source": [
    "d = defaultdict(list)\n",
    "m,n = map(int, input().split())\n",
    "\n",
    "i = 0\n",
    "while i < m:\n",
    "    d['A'].append(input())\n",
    "    i += 1\n",
    "\n",
    "j = 0\n",
    "while j < n:\n",
    "    d['B'].append(input())\n",
    "    j += 1\n",
    "\n"
   ]
  },
  {
   "cell_type": "code",
   "execution_count": 19,
   "metadata": {},
   "outputs": [
    {
     "name": "stdout",
     "output_type": "stream",
     "text": [
      "1 3\n",
      "-1\n"
     ]
    }
   ],
   "source": [
    "for i in range(len(d['B'])):\n",
    "    output = []\n",
    "    for j in range(len(d['A'])):\n",
    "        if d['A'][j] == d['B'][i]:\n",
    "            output.append(j+1)\n",
    "    if output == []:\n",
    "        print(str(-1))\n",
    "    else:\n",
    "        print(' '.join(map(str,output))) \n"
   ]
  }
 ],
 "metadata": {
  "interpreter": {
   "hash": "555e3bcb845c73241d5818f695e60a936fd3cc1b51e530d54457196c48f4524d"
  },
  "kernelspec": {
   "display_name": "Python 3.7.10 ('tensorflow')",
   "language": "python",
   "name": "python3"
  },
  "language_info": {
   "codemirror_mode": {
    "name": "ipython",
    "version": 3
   },
   "file_extension": ".py",
   "mimetype": "text/x-python",
   "name": "python",
   "nbconvert_exporter": "python",
   "pygments_lexer": "ipython3",
   "version": "3.7.10"
  },
  "orig_nbformat": 4
 },
 "nbformat": 4,
 "nbformat_minor": 2
}
