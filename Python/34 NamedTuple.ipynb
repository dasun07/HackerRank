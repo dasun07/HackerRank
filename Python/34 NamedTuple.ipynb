{
 "cells": [
  {
   "cell_type": "code",
   "execution_count": 3,
   "metadata": {},
   "outputs": [],
   "source": [
    "from collections import namedtuple #creates object types\n",
    "#Example 1\n",
    "# Point = namedtuple('Point','x,y')\n",
    "# pt1 = Point(1,2)\n",
    "# pt2 = Point(3,4)\n",
    "\n",
    "# dot_product = (pt1.x*pt2.x) + (pt1.y*pt2.y)\n",
    "# print(dot_product)\n",
    "\n",
    "#Example 2\n",
    "# Car = namedtuple('Car','Price Mileage Colour Class')\n",
    "# xyz = Car(Price=100000, Mileage=30, Colour='Cyan', Class='Y')\n",
    "# print(xyz.Class)"
   ]
  },
  {
   "cell_type": "code",
   "execution_count": 5,
   "metadata": {},
   "outputs": [
    {
     "name": "stdout",
     "output_type": "stream",
     "text": [
      "73.5\n"
     ]
    }
   ],
   "source": [
    "num_students = int(input())\n",
    "fields = input()\n",
    "prop = fields.split()\n",
    "object = namedtuple('object', fields)\n",
    "total = 0\n",
    "for _ in range(num_students):\n",
    "    data = input().split()\n",
    "    student = object(data[0], data[1], data[2], data[3])\n",
    "    total += int(student.MARKS)\n",
    "  \n",
    "\n",
    "print(total/num_students)"
   ]
  },
  {
   "cell_type": "code",
   "execution_count": null,
   "metadata": {},
   "outputs": [],
   "source": []
  }
 ],
 "metadata": {
  "interpreter": {
   "hash": "555e3bcb845c73241d5818f695e60a936fd3cc1b51e530d54457196c48f4524d"
  },
  "kernelspec": {
   "display_name": "Python 3.7.10 ('tensorflow')",
   "language": "python",
   "name": "python3"
  },
  "language_info": {
   "codemirror_mode": {
    "name": "ipython",
    "version": 3
   },
   "file_extension": ".py",
   "mimetype": "text/x-python",
   "name": "python",
   "nbconvert_exporter": "python",
   "pygments_lexer": "ipython3",
   "version": "3.7.10"
  },
  "orig_nbformat": 4
 },
 "nbformat": 4,
 "nbformat_minor": 2
}
