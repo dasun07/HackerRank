{
 "cells": [
  {
   "cell_type": "code",
   "execution_count": 6,
   "metadata": {},
   "outputs": [
    {
     "name": "stdout",
     "output_type": "stream",
     "text": [
      "2\n",
      "Error Code: invalid literal for int() with base 10: '@'\n",
      "Error Code: integer division or modulo by zero\n"
     ]
    }
   ],
   "source": [
    "num_divisions = int(input())\n",
    "while num_divisions != 0:\n",
    "    try:\n",
    "        a,b = map(int, input().split())\n",
    "        try:\n",
    "            print(a//b)\n",
    "        except ZeroDivisionError as ze:\n",
    "            print('Error Code:', ze)\n",
    "\n",
    "    except ValueError as ve:\n",
    "        print('Error Code:', ve)\n",
    "    \n",
    "    num_divisions -= 1"
   ]
  },
  {
   "cell_type": "code",
   "execution_count": null,
   "metadata": {},
   "outputs": [],
   "source": []
  }
 ],
 "metadata": {
  "kernelspec": {
   "display_name": "Python 3.7.10 ('tensorflow')",
   "language": "python",
   "name": "python3"
  },
  "language_info": {
   "codemirror_mode": {
    "name": "ipython",
    "version": 3
   },
   "file_extension": ".py",
   "mimetype": "text/x-python",
   "name": "python",
   "nbconvert_exporter": "python",
   "pygments_lexer": "ipython3",
   "version": "3.7.10"
  },
  "orig_nbformat": 4,
  "vscode": {
   "interpreter": {
    "hash": "1d1126811e52f7a4f325bb989cb7d4cb5b8fface4929d6a08255bed0ac86b4c6"
   }
  }
 },
 "nbformat": 4,
 "nbformat_minor": 2
}
