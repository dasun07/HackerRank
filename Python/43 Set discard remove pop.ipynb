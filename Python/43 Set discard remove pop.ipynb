{
 "cells": [
  {
   "cell_type": "code",
   "execution_count": null,
   "metadata": {},
   "outputs": [],
   "source": [
    "n = int(input())\n",
    "s = set(map(int, input().split()))\n",
    "ins = int(input())\n",
    "for _ in range(ins):\n",
    "    instructions = input().split()\n",
    "    if len(instructions) == 1:\n",
    "        instruction = instructions[0]\n",
    "        try:\n",
    "            s.pop()\n",
    "        except KeyError:\n",
    "            continue   \n",
    "    else:\n",
    "        instruction = instructions[0]\n",
    "        element = int(instructions[1])\n",
    "        \n",
    "        if instruction == 'remove':\n",
    "            try:\n",
    "                s.remove(element)\n",
    "            except KeyError:\n",
    "                continue\n",
    "        elif instruction == 'discard':\n",
    "            s.discard(element)\n",
    "        \n",
    "        else:\n",
    "            continue\n",
    "\n",
    "print(str(sum(s)))"
   ]
  }
 ],
 "metadata": {
  "kernelspec": {
   "display_name": "Python 3.7.10 ('tensorflow')",
   "language": "python",
   "name": "python3"
  },
  "language_info": {
   "name": "python",
   "version": "3.7.10"
  },
  "orig_nbformat": 4,
  "vscode": {
   "interpreter": {
    "hash": "1d1126811e52f7a4f325bb989cb7d4cb5b8fface4929d6a08255bed0ac86b4c6"
   }
  }
 },
 "nbformat": 4,
 "nbformat_minor": 2
}
