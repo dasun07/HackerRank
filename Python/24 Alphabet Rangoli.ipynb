{
 "cells": [
  {
   "cell_type": "code",
   "execution_count": 36,
   "metadata": {},
   "outputs": [],
   "source": [
    "def print_rangoli(size):\n",
    "    if size == 1:\n",
    "        print('a')\n",
    "    else:\n",
    "        for i in range(1,size+1):\n",
    "            string = ('-'.join([chr(j) for j in range((96+size),(96+size-i),-1)]) + '-' + '-'.join([chr(j) for j in range(96+size-i+2,96+size+1)])).center(size*4 - 3, '-')\n",
    "            print(string)\n",
    "    \n",
    "        for i in range(size-1,0,-1):\n",
    "            string = ('-'.join([chr(j) for j in range((96+size),(96+size-i),-1)]) + '-' + '-'.join([chr(j) for j in range(96+size-i+2,96+size+1)])).center(size*4 - 3, '-')\n",
    "            print(string)"
   ]
  },
  {
   "cell_type": "code",
   "execution_count": 37,
   "metadata": {},
   "outputs": [
    {
     "name": "stdout",
     "output_type": "stream",
     "text": [
      "1\n",
      "a\n"
     ]
    }
   ],
   "source": [
    "n = int(input())\n",
    "print_rangoli(n)"
   ]
  },
  {
   "cell_type": "code",
   "execution_count": 8,
   "metadata": {},
   "outputs": [
    {
     "name": "stdout",
     "output_type": "stream",
     "text": [
      "['j', 'i', 'h']\n"
     ]
    }
   ],
   "source": [
    "l = [chr(j) for j in range(96+10,96+7,-1)]\n",
    "print(l)"
   ]
  },
  {
   "cell_type": "code",
   "execution_count": null,
   "metadata": {},
   "outputs": [],
   "source": []
  }
 ],
 "metadata": {
  "kernelspec": {
   "display_name": "Python 3",
   "language": "python",
   "name": "python3"
  },
  "language_info": {
   "codemirror_mode": {
    "name": "ipython",
    "version": 3
   },
   "file_extension": ".py",
   "mimetype": "text/x-python",
   "name": "python",
   "nbconvert_exporter": "python",
   "pygments_lexer": "ipython3",
   "version": "3.7.9"
  }
 },
 "nbformat": 4,
 "nbformat_minor": 4
}
