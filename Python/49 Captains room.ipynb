{
 "cells": [
  {
   "cell_type": "code",
   "execution_count": null,
   "metadata": {},
   "outputs": [],
   "source": [
    "num_repeat = int(input())\n",
    "room_list = list(map(int,input().split()))\n",
    "empty_dic = {}\n",
    "for element in room_list:\n",
    "    empty_dic[element] = empty_dic.get(element,0) + 1\n",
    "\n",
    "final_dic = {value:key for key, value in empty_dic.items()}\n",
    "print(final_dic[1])"
   ]
  }
 ],
 "metadata": {
  "kernelspec": {
   "display_name": "Python 3.7.10 ('tensorflow')",
   "language": "python",
   "name": "python3"
  },
  "language_info": {
   "name": "python",
   "version": "3.7.10"
  },
  "orig_nbformat": 4,
  "vscode": {
   "interpreter": {
    "hash": "1d1126811e52f7a4f325bb989cb7d4cb5b8fface4929d6a08255bed0ac86b4c6"
   }
  }
 },
 "nbformat": 4,
 "nbformat_minor": 2
}
