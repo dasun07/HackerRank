{
 "cells": [
  {
   "cell_type": "code",
   "execution_count": null,
   "metadata": {},
   "outputs": [],
   "source": [
    "from itertools import combinations\n",
    "\n",
    "n = int(input())\n",
    "letters = sorted(input().split())\n",
    "k = int(input())\n",
    "\n",
    "l = list(combinations(letters, k))\n",
    "total = len(l)\n",
    "count = 0\n",
    "for element in l:\n",
    "    if any(i == 'a' for i in element):\n",
    "        count += 1\n",
    "    # count += 'a' in element\n",
    "print(f'{count/total:.4f}')\n"
   ]
  }
 ],
 "metadata": {
  "kernelspec": {
   "display_name": "Python 3.7.10 ('tensorflow')",
   "language": "python",
   "name": "python3"
  },
  "language_info": {
   "name": "python",
   "version": "3.7.10"
  },
  "orig_nbformat": 4,
  "vscode": {
   "interpreter": {
    "hash": "1d1126811e52f7a4f325bb989cb7d4cb5b8fface4929d6a08255bed0ac86b4c6"
   }
  }
 },
 "nbformat": 4,
 "nbformat_minor": 2
}
