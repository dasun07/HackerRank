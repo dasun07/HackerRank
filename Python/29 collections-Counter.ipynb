{
 "cells": [
  {
   "cell_type": "code",
   "execution_count": 1,
   "metadata": {},
   "outputs": [],
   "source": [
    "from collections import Counter"
   ]
  },
  {
   "cell_type": "code",
   "execution_count": 2,
   "metadata": {},
   "outputs": [],
   "source": [
    "#collections.Counter\n",
    "#stores elements in a list as dictionary keys and their counts are stores as dictionary values"
   ]
  },
  {
   "cell_type": "code",
   "execution_count": 8,
   "metadata": {},
   "outputs": [
    {
     "name": "stdout",
     "output_type": "stream",
     "text": [
      "10\n",
      "2 3 4 5 6 8 7 6 5 18\n",
      "6\n",
      "6 55\n",
      "6 45\n",
      "6 55\n",
      "4 40\n",
      "18 60\n",
      "10 50\n",
      "200\n"
     ]
    }
   ],
   "source": [
    "X = int(input())\n",
    "shoes = Counter(list(map(int,input().split())))\n",
    "N = int(input())\n",
    "\n",
    "total = 0\n",
    "\n",
    "for _ in range(N):\n",
    "    size, pay = list(map(int, input().split()))\n",
    "    if size in shoes:\n",
    "        if shoes[size] > 0:\n",
    "            total += pay\n",
    "            shoes[size] = shoes[size] - 1\n",
    "\n",
    "print(total)\n",
    "\n",
    "\n"
   ]
  },
  {
   "cell_type": "code",
   "execution_count": null,
   "metadata": {},
   "outputs": [],
   "source": []
  }
 ],
 "metadata": {
  "kernelspec": {
   "display_name": "Python 3",
   "language": "python",
   "name": "python3"
  },
  "language_info": {
   "codemirror_mode": {
    "name": "ipython",
    "version": 3
   },
   "file_extension": ".py",
   "mimetype": "text/x-python",
   "name": "python",
   "nbconvert_exporter": "python",
   "pygments_lexer": "ipython3",
   "version": "3.7.9"
  }
 },
 "nbformat": 4,
 "nbformat_minor": 4
}
