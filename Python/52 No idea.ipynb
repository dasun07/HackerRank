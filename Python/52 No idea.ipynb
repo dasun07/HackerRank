{
 "cells": [
  {
   "cell_type": "code",
   "execution_count": 1,
   "metadata": {},
   "outputs": [],
   "source": [
    "n, m = map(int, input().split())\n",
    "l_a = sorted(list(map(int, input().split())))\n",
    "set_b = set(map(int, input().split()))\n",
    "set_c = set(map(int, input().split()))\n",
    "\n",
    "happiness = 0\n",
    "\n",
    "for element in l_a:\n",
    "    if element in set_b:\n",
    "        happiness += 1\n",
    "    elif element in set_c:\n",
    "        happiness -= 1\n",
    "    else:\n",
    "        continue\n",
    "\n",
    "print(happiness)"
   ]
  }
 ],
 "metadata": {
  "kernelspec": {
   "display_name": "Python 3.7.10 ('tensorflow')",
   "language": "python",
   "name": "python3"
  },
  "language_info": {
   "codemirror_mode": {
    "name": "ipython",
    "version": 3
   },
   "file_extension": ".py",
   "mimetype": "text/x-python",
   "name": "python",
   "nbconvert_exporter": "python",
   "pygments_lexer": "ipython3",
   "version": "3.7.10"
  },
  "orig_nbformat": 4,
  "vscode": {
   "interpreter": {
    "hash": "1d1126811e52f7a4f325bb989cb7d4cb5b8fface4929d6a08255bed0ac86b4c6"
   }
  }
 },
 "nbformat": 4,
 "nbformat_minor": 2
}
