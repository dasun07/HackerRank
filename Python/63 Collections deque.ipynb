{
 "cells": [
  {
   "cell_type": "code",
   "execution_count": null,
   "metadata": {},
   "outputs": [],
   "source": [
    "from collections import deque\n",
    "\n",
    "d = deque()\n",
    "n = int(input())\n",
    "for _ in range(n):\n",
    "    instructions = input().split()\n",
    "    if len(instructions) == 1:\n",
    "        if instructions[0] == 'pop':\n",
    "            d.pop()\n",
    "        elif instructions[0] == 'popleft':\n",
    "            d.popleft()\n",
    "        else:\n",
    "            continue\n",
    "    else:\n",
    "        instruction = instructions[0]\n",
    "        element = int(instructions[1])\n",
    "        if instruction == 'append':\n",
    "            d.append(element)\n",
    "        elif instruction == 'appendleft':\n",
    "            d.appendleft(element)\n",
    "        else:\n",
    "            continue\n",
    "\n",
    "for x in d:\n",
    "    print(x, end = ' ')"
   ]
  }
 ],
 "metadata": {
  "kernelspec": {
   "display_name": "Python 3.7.10 ('tensorflow')",
   "language": "python",
   "name": "python3"
  },
  "language_info": {
   "name": "python",
   "version": "3.7.10"
  },
  "orig_nbformat": 4,
  "vscode": {
   "interpreter": {
    "hash": "1d1126811e52f7a4f325bb989cb7d4cb5b8fface4929d6a08255bed0ac86b4c6"
   }
  }
 },
 "nbformat": 4,
 "nbformat_minor": 2
}
