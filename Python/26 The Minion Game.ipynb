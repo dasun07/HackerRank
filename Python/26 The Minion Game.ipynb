{
 "cells": [
  {
   "cell_type": "code",
   "execution_count": 26,
   "metadata": {},
   "outputs": [],
   "source": [
    "def minion_game(string):\n",
    "    vowels = []\n",
    "    cons = []\n",
    "    for i in string:\n",
    "        if i in 'AEIOU':\n",
    "            vowels.append(i)\n",
    "        else:\n",
    "            cons.append(i)\n",
    "    vowels = list(set(vowels))\n",
    "    cons = list(set(cons))\n",
    "    \n",
    "    #doesnt work for loooooonnnggg texts\n",
    "    #words_v = [string[i:j] for i,x in enumerate(string) for j in range(i, len(string)) if x in vowels]\n",
    "    #words_c = [string[i:j] for i,x in enumerate(string) for j in range(i, len(string)) if x in cons]  \n",
    "    score_v = 0\n",
    "    score_c = 0\n",
    "\n",
    "    for i,x in enumerate(string):\n",
    "        if x in vowels:\n",
    "            score_v += (len(string) - i)\n",
    "        else:\n",
    "            score_c += (len(string) - i)\n",
    "               \n",
    "    if score_v > score_c:\n",
    "        print('Kevin %d' %(score_v))\n",
    "    elif score_v < score_c:\n",
    "        print('Stuart %d' %(score_c))\n",
    "    else:\n",
    "        print('Draw')"
   ]
  },
  {
   "cell_type": "code",
   "execution_count": 27,
   "metadata": {},
   "outputs": [
    {
     "name": "stdout",
     "output_type": "stream",
     "text": [
      "Stuart 12\n"
     ]
    }
   ],
   "source": [
    "minion_game('banana'.upper())"
   ]
  },
  {
   "cell_type": "code",
   "execution_count": null,
   "metadata": {},
   "outputs": [],
   "source": []
  }
 ],
 "metadata": {
  "kernelspec": {
   "display_name": "Python 3",
   "language": "python",
   "name": "python3"
  },
  "language_info": {
   "codemirror_mode": {
    "name": "ipython",
    "version": 3
   },
   "file_extension": ".py",
   "mimetype": "text/x-python",
   "name": "python",
   "nbconvert_exporter": "python",
   "pygments_lexer": "ipython3",
   "version": "3.7.9"
  }
 },
 "nbformat": 4,
 "nbformat_minor": 4
}
