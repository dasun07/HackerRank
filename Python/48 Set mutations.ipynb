{
 "cells": [
  {
   "cell_type": "code",
   "execution_count": null,
   "metadata": {},
   "outputs": [],
   "source": [
    "size = int(input())\n",
    "a = set(map(int, input().split()))\n",
    "num_sets = int(input())\n",
    "for _ in range(num_sets):\n",
    "    instructions = input().split()\n",
    "    instruction = instructions[0]\n",
    "    b = set(map(int, input().split()))\n",
    "    if instruction == 'update':\n",
    "        a.update(b)\n",
    "    elif instruction == 'intersection_update':\n",
    "        a.intersection_update(b)\n",
    "    elif instruction == 'difference_update':\n",
    "        a.difference_update(b)\n",
    "    elif instruction == 'symmetric_difference_update':\n",
    "        a.symmetric_difference_update(b)\n",
    "        \n",
    "print(str(sum(a)))"
   ]
  }
 ],
 "metadata": {
  "kernelspec": {
   "display_name": "Python 3.7.10 ('tensorflow')",
   "language": "python",
   "name": "python3"
  },
  "language_info": {
   "name": "python",
   "version": "3.7.10"
  },
  "orig_nbformat": 4,
  "vscode": {
   "interpreter": {
    "hash": "1d1126811e52f7a4f325bb989cb7d4cb5b8fface4929d6a08255bed0ac86b4c6"
   }
  }
 },
 "nbformat": 4,
 "nbformat_minor": 2
}
