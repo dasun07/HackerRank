{
 "cells": [
  {
   "cell_type": "code",
   "execution_count": null,
   "metadata": {},
   "outputs": [
    {
     "name": "stdout",
     "output_type": "stream",
     "text": [
      "12\n",
      "insert 0 5\n",
      "insert 1 10\n",
      "insert 0 6 \n"
     ]
    }
   ],
   "source": [
    "arr = []\n",
    "N = int(input())\n",
    "for _ in range(N):\n",
    "    command, *line = input().split()\n",
    "    data = list(map(int, line))\n",
    "    if command == 'insert':\n",
    "        arr.insert(data[1], data[0])\n",
    "    elif command == 'print':\n",
    "        print(arr)\n",
    "    elif command == 'remove':\n",
    "        arr.remove(data[0])\n",
    "    elif command == 'append':\n",
    "        arr.append(data[0])\n",
    "    elif command == 'sort':\n",
    "        arr = sorted(arr)\n",
    "    elif command == 'pop':\n",
    "        arr.pop()\n",
    "    elif command == 'reverse':\n",
    "        arr.reverse()"
   ]
  },
  {
   "cell_type": "code",
   "execution_count": null,
   "metadata": {},
   "outputs": [],
   "source": []
  }
 ],
 "metadata": {
  "kernelspec": {
   "display_name": "Python 3",
   "language": "python",
   "name": "python3"
  },
  "language_info": {
   "codemirror_mode": {
    "name": "ipython",
    "version": 3
   },
   "file_extension": ".py",
   "mimetype": "text/x-python",
   "name": "python",
   "nbconvert_exporter": "python",
   "pygments_lexer": "ipython3",
   "version": "3.7.9"
  }
 },
 "nbformat": 4,
 "nbformat_minor": 4
}
