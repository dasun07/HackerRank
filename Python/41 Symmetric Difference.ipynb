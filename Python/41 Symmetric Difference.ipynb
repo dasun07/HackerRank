{
 "cells": [
  {
   "cell_type": "code",
   "execution_count": 1,
   "metadata": {},
   "outputs": [],
   "source": [
    "set_a_size = int(input())\n",
    "set_a = set()\n",
    "set_a.update(list(map(int, input().split())))\n",
    "\n",
    "set_b_size = int(input())\n",
    "set_b = set()\n",
    "set_b.update(list(map(int, input().split())))\n",
    "\n",
    "final_set = set_a.difference(set_b).union(set_b.difference(set_a))\n",
    "final_list = list(final_set)\n",
    "    \n",
    "final_list = sorted(final_list)\n",
    "for i in final_list:\n",
    "    print(str(i))\n",
    "    "
   ]
  }
 ],
 "metadata": {
  "kernelspec": {
   "display_name": "Python 3.7.10 ('tensorflow')",
   "language": "python",
   "name": "python3"
  },
  "language_info": {
   "codemirror_mode": {
    "name": "ipython",
    "version": 3
   },
   "file_extension": ".py",
   "mimetype": "text/x-python",
   "name": "python",
   "nbconvert_exporter": "python",
   "pygments_lexer": "ipython3",
   "version": "3.7.10"
  },
  "orig_nbformat": 4,
  "vscode": {
   "interpreter": {
    "hash": "1d1126811e52f7a4f325bb989cb7d4cb5b8fface4929d6a08255bed0ac86b4c6"
   }
  }
 },
 "nbformat": 4,
 "nbformat_minor": 2
}
