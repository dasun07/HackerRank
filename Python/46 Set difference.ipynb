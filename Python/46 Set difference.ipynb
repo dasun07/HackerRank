{
 "cells": [
  {
   "cell_type": "code",
   "execution_count": null,
   "metadata": {},
   "outputs": [],
   "source": [
    "set_a_size = int(input())\n",
    "set_a = set(map(int, input().split()))\n",
    "set_b_size = int(input())\n",
    "set_b = set(map(int, input().split()))\n",
    "\n",
    "set_final = set_a.difference(set_b)\n",
    "print(str(len(list(set_final))))"
   ]
  }
 ],
 "metadata": {
  "kernelspec": {
   "display_name": "Python 3.7.10 ('tensorflow')",
   "language": "python",
   "name": "python3"
  },
  "language_info": {
   "name": "python",
   "version": "3.7.10"
  },
  "orig_nbformat": 4,
  "vscode": {
   "interpreter": {
    "hash": "1d1126811e52f7a4f325bb989cb7d4cb5b8fface4929d6a08255bed0ac86b4c6"
   }
  }
 },
 "nbformat": 4,
 "nbformat_minor": 2
}
